{
 "cells": [
  {
   "cell_type": "code",
   "execution_count": 1,
   "id": "f1e63cd9",
   "metadata": {},
   "outputs": [
    {
     "name": "stdout",
     "output_type": "stream",
     "text": [
      "Demo of basic datatypes\n"
     ]
    }
   ],
   "source": [
    "print(\"Demo of basic datatypes\")"
   ]
  },
  {
   "cell_type": "code",
   "execution_count": 3,
   "id": "68a22335",
   "metadata": {},
   "outputs": [
    {
     "name": "stdout",
     "output_type": "stream",
     "text": [
      "X =  3\n",
      "Y =  2.5\n"
     ]
    }
   ],
   "source": [
    "x=3\n",
    "y=2.5\n",
    "print(\"X = \",x)\n",
    "print(\"Y = \",y)"
   ]
  },
  {
   "cell_type": "code",
   "execution_count": 4,
   "id": "3ce5cb1b",
   "metadata": {},
   "outputs": [
    {
     "name": "stdout",
     "output_type": "stream",
     "text": [
      "Datatype of variable X :  <class 'int'>\n",
      "Datatype of variable Y :  <class 'float'>\n"
     ]
    }
   ],
   "source": [
    "print(\"Datatype of variable X : \",type(x))\n",
    "print(\"Datatype of variable Y : \",type(y))"
   ]
  },
  {
   "cell_type": "code",
   "execution_count": 6,
   "id": "05a5dd66",
   "metadata": {},
   "outputs": [
    {
     "name": "stdout",
     "output_type": "stream",
     "text": [
      "Addition =  5.5\n",
      "Subtraction =  0.5\n",
      "Multiplication =  7.5\n",
      "Division =  1.2\n",
      "Exponential =  15.588457268119896\n"
     ]
    }
   ],
   "source": [
    "print(\"Addition = \",x+y)\n",
    "print(\"Subtraction = \",x-y)\n",
    "print(\"Multiplication = \",x*y)\n",
    "print(\"Division = \",x/y)\n",
    "print(\"Exponential = \",x**y)"
   ]
  },
  {
   "cell_type": "code",
   "execution_count": null,
   "id": "c4231fa1",
   "metadata": {},
   "outputs": [],
   "source": []
  }
 ],
 "metadata": {
  "kernelspec": {
   "display_name": "Python 3 (ipykernel)",
   "language": "python",
   "name": "python3"
  },
  "language_info": {
   "codemirror_mode": {
    "name": "ipython",
    "version": 3
   },
   "file_extension": ".py",
   "mimetype": "text/x-python",
   "name": "python",
   "nbconvert_exporter": "python",
   "pygments_lexer": "ipython3",
   "version": "3.11.5"
  }
 },
 "nbformat": 4,
 "nbformat_minor": 5
}
