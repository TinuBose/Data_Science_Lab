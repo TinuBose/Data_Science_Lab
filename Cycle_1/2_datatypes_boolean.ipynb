{
 "cells": [
  {
   "cell_type": "code",
   "execution_count": 1,
   "metadata": {},
   "outputs": [
    {
     "name": "stdout",
     "output_type": "stream",
     "text": [
      "Demo of basic datatypes boolean\n"
     ]
    }
   ],
   "source": [
    "print(\"Demo of basic datatypes boolean\")"
   ]
  },
  {
   "cell_type": "code",
   "execution_count": 2,
   "metadata": {},
   "outputs": [
    {
     "name": "stdout",
     "output_type": "stream",
     "text": [
      "t =  True\n",
      "f =  False\n"
     ]
    }
   ],
   "source": [
    "t=True\n",
    "f=False\n",
    "print(\"t = \",t)\n",
    "print(\"f = \",f)b"
   ]
  },
  {
   "cell_type": "code",
   "execution_count": 4,
   "metadata": {},
   "outputs": [
    {
     "name": "stdout",
     "output_type": "stream",
     "text": [
      "datatype of variable t :  <class 'bool'>\n",
      "datatype of variable f :  <class 'bool'>\n"
     ]
    }
   ],
   "source": [
    "print(\"datatype of variable t : \",type(t))\n",
    "print(\"datatype of variable f : \",type(f))"
   ]
  },
  {
   "cell_type": "code",
   "execution_count": 6,
   "metadata": {},
   "outputs": [
    {
     "name": "stdout",
     "output_type": "stream",
     "text": [
      "logical AND operator :  False\n"
     ]
    }
   ],
   "source": [
    "print(\"logical AND operator : \",t and f)"
   ]
  },
  {
   "cell_type": "code",
   "execution_count": 7,
   "metadata": {},
   "outputs": [
    {
     "name": "stdout",
     "output_type": "stream",
     "text": [
      "logical OR operator :  True\n"
     ]
    }
   ],
   "source": [
    "print(\"logical OR operator : \",t or f)"
   ]
  },
  {
   "cell_type": "code",
   "execution_count": 8,
   "metadata": {},
   "outputs": [
    {
     "name": "stdout",
     "output_type": "stream",
     "text": [
      "logical not operator :  True\n"
     ]
    }
   ],
   "source": [
    "print(\"logical not operator : \",not f)"
   ]
  },
  {
   "cell_type": "code",
   "execution_count": 9,
   "metadata": {},
   "outputs": [
    {
     "name": "stdout",
     "output_type": "stream",
     "text": [
      "logical X-OR operator :  True\n"
     ]
    }
   ],
   "source": [
    "print(\"logical X-OR operator : \",t!=f)"
   ]
  },
  {
   "cell_type": "code",
   "execution_count": null,
   "metadata": {},
   "outputs": [],
   "source": []
  }
 ],
 "metadata": {
  "kernelspec": {
   "display_name": "Python 3",
   "language": "python",
   "name": "python3"
  },
  "language_info": {
   "codemirror_mode": {
    "name": "ipython",
    "version": 3
   },
   "file_extension": ".py",
   "mimetype": "text/x-python",
   "name": "python",
   "nbconvert_exporter": "python",
   "pygments_lexer": "ipython3",
   "version": "3.11.3"
  }
 },
 "nbformat": 4,
 "nbformat_minor": 2
}
